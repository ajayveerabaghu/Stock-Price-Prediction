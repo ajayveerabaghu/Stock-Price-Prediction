{
 "cells": [
  {
   "cell_type": "code",
   "execution_count": 1,
   "metadata": {
    "colab": {
     "base_uri": "https://localhost:8080/"
    },
    "executionInfo": {
     "elapsed": 25377,
     "status": "ok",
     "timestamp": 1679229911640,
     "user": {
      "displayName": "Kathir Pandian",
      "userId": "11402945970793487358"
     },
     "user_tz": -330
    },
    "id": "XExy-k715pFY",
    "outputId": "9fc88088-936b-4fdb-cfe4-327f9441044a"
   },
   "outputs": [
    {
     "name": "stdout",
     "output_type": "stream",
     "text": [
      "Mounted at /content/drive\n"
     ]
    }
   ],
   "source": [
    "from google.colab import drive\n",
    "drive.mount('/content/drive')"
   ]
  },
  {
   "cell_type": "code",
   "execution_count": 1,
   "metadata": {
    "executionInfo": {
     "elapsed": 2307,
     "status": "ok",
     "timestamp": 1679229917337,
     "user": {
      "displayName": "Kathir Pandian",
      "userId": "11402945970793487358"
     },
     "user_tz": -330
    },
    "id": "ifMSqhND4bPh"
   },
   "outputs": [],
   "source": [
    "import datetime as dt\n",
    "import pandas as pd\n",
    "import numpy as np\n",
    "from numpy import arange\n",
    "import matplotlib.pyplot as plt\n",
    "from pandas import read_csv\n",
    "from sklearn import metrics\n",
    "from sklearn.model_selection import train_test_split\n",
    "from sklearn.ensemble import RandomForestRegressor\n",
    "from sklearn.preprocessing import StandardScaler\n",
    "from sklearn.model_selection import RandomizedSearchCV"
   ]
  },
  {
   "cell_type": "code",
   "execution_count": 2,
   "metadata": {
    "colab": {
     "base_uri": "https://localhost:8080/",
     "height": 206
    },
    "executionInfo": {
     "elapsed": 1461,
     "status": "ok",
     "timestamp": 1679230155472,
     "user": {
      "displayName": "Kathir Pandian",
      "userId": "11402945970793487358"
     },
     "user_tz": -330
    },
    "id": "R8wXrxdV4bPk",
    "outputId": "7ae79931-a389-4978-edae-3dd191da60dc"
   },
   "outputs": [
    {
     "data": {
      "text/html": [
       "<div>\n",
       "<style scoped>\n",
       "    .dataframe tbody tr th:only-of-type {\n",
       "        vertical-align: middle;\n",
       "    }\n",
       "\n",
       "    .dataframe tbody tr th {\n",
       "        vertical-align: top;\n",
       "    }\n",
       "\n",
       "    .dataframe thead th {\n",
       "        text-align: right;\n",
       "    }\n",
       "</style>\n",
       "<table border=\"1\" class=\"dataframe\">\n",
       "  <thead>\n",
       "    <tr style=\"text-align: right;\">\n",
       "      <th></th>\n",
       "      <th>timestamp</th>\n",
       "      <th>open</th>\n",
       "      <th>high</th>\n",
       "      <th>low</th>\n",
       "      <th>close</th>\n",
       "      <th>volume</th>\n",
       "    </tr>\n",
       "  </thead>\n",
       "  <tbody>\n",
       "    <tr>\n",
       "      <th>0</th>\n",
       "      <td>2017-01-02 09:15:00+05:30</td>\n",
       "      <td>392.05</td>\n",
       "      <td>392.15</td>\n",
       "      <td>390.90</td>\n",
       "      <td>390.90</td>\n",
       "      <td>39465.0</td>\n",
       "    </tr>\n",
       "    <tr>\n",
       "      <th>1</th>\n",
       "      <td>2017-01-02 09:16:00+05:30</td>\n",
       "      <td>391.00</td>\n",
       "      <td>391.35</td>\n",
       "      <td>390.50</td>\n",
       "      <td>390.90</td>\n",
       "      <td>19199.0</td>\n",
       "    </tr>\n",
       "    <tr>\n",
       "      <th>2</th>\n",
       "      <td>2017-01-02 09:17:00+05:30</td>\n",
       "      <td>390.65</td>\n",
       "      <td>390.90</td>\n",
       "      <td>390.10</td>\n",
       "      <td>390.10</td>\n",
       "      <td>19773.0</td>\n",
       "    </tr>\n",
       "    <tr>\n",
       "      <th>3</th>\n",
       "      <td>2017-01-02 09:18:00+05:30</td>\n",
       "      <td>390.00</td>\n",
       "      <td>390.00</td>\n",
       "      <td>389.30</td>\n",
       "      <td>389.75</td>\n",
       "      <td>17499.0</td>\n",
       "    </tr>\n",
       "    <tr>\n",
       "      <th>4</th>\n",
       "      <td>2017-01-02 09:19:00+05:30</td>\n",
       "      <td>389.75</td>\n",
       "      <td>390.00</td>\n",
       "      <td>389.55</td>\n",
       "      <td>389.80</td>\n",
       "      <td>13701.0</td>\n",
       "    </tr>\n",
       "  </tbody>\n",
       "</table>\n",
       "</div>"
      ],
      "text/plain": [
       "                   timestamp    open    high     low   close   volume\n",
       "0  2017-01-02 09:15:00+05:30  392.05  392.15  390.90  390.90  39465.0\n",
       "1  2017-01-02 09:16:00+05:30  391.00  391.35  390.50  390.90  19199.0\n",
       "2  2017-01-02 09:17:00+05:30  390.65  390.90  390.10  390.10  19773.0\n",
       "3  2017-01-02 09:18:00+05:30  390.00  390.00  389.30  389.75  17499.0\n",
       "4  2017-01-02 09:19:00+05:30  389.75  390.00  389.55  389.80  13701.0"
      ]
     },
     "execution_count": 2,
     "metadata": {},
     "output_type": "execute_result"
    }
   ],
   "source": [
    "read_df = pd.read_csv(\"TATASTEEL__EQ__NSE__NSE__MINUTE.csv\", low_memory=False)\n",
    "read_df.head()"
   ]
  },
  {
   "cell_type": "code",
   "execution_count": 3,
   "metadata": {
    "colab": {
     "base_uri": "https://localhost:8080/",
     "height": 206
    },
    "executionInfo": {
     "elapsed": 852,
     "status": "ok",
     "timestamp": 1679230178235,
     "user": {
      "displayName": "Kathir Pandian",
      "userId": "11402945970793487358"
     },
     "user_tz": -330
    },
    "id": "3RKEP2Zb6Zyo",
    "outputId": "535f05df-f253-4e64-de74-4371c57e54f7"
   },
   "outputs": [
    {
     "data": {
      "text/html": [
       "<div>\n",
       "<style scoped>\n",
       "    .dataframe tbody tr th:only-of-type {\n",
       "        vertical-align: middle;\n",
       "    }\n",
       "\n",
       "    .dataframe tbody tr th {\n",
       "        vertical-align: top;\n",
       "    }\n",
       "\n",
       "    .dataframe thead th {\n",
       "        text-align: right;\n",
       "    }\n",
       "</style>\n",
       "<table border=\"1\" class=\"dataframe\">\n",
       "  <thead>\n",
       "    <tr style=\"text-align: right;\">\n",
       "      <th></th>\n",
       "      <th>timestamp</th>\n",
       "      <th>open</th>\n",
       "      <th>high</th>\n",
       "      <th>low</th>\n",
       "      <th>close</th>\n",
       "      <th>volume</th>\n",
       "    </tr>\n",
       "  </thead>\n",
       "  <tbody>\n",
       "    <tr>\n",
       "      <th>0</th>\n",
       "      <td>2017-01-02</td>\n",
       "      <td>392.05</td>\n",
       "      <td>392.15</td>\n",
       "      <td>390.90</td>\n",
       "      <td>390.90</td>\n",
       "      <td>39465.0</td>\n",
       "    </tr>\n",
       "    <tr>\n",
       "      <th>1</th>\n",
       "      <td>2017-01-02</td>\n",
       "      <td>391.00</td>\n",
       "      <td>391.35</td>\n",
       "      <td>390.50</td>\n",
       "      <td>390.90</td>\n",
       "      <td>19199.0</td>\n",
       "    </tr>\n",
       "    <tr>\n",
       "      <th>2</th>\n",
       "      <td>2017-01-02</td>\n",
       "      <td>390.65</td>\n",
       "      <td>390.90</td>\n",
       "      <td>390.10</td>\n",
       "      <td>390.10</td>\n",
       "      <td>19773.0</td>\n",
       "    </tr>\n",
       "    <tr>\n",
       "      <th>3</th>\n",
       "      <td>2017-01-02</td>\n",
       "      <td>390.00</td>\n",
       "      <td>390.00</td>\n",
       "      <td>389.30</td>\n",
       "      <td>389.75</td>\n",
       "      <td>17499.0</td>\n",
       "    </tr>\n",
       "    <tr>\n",
       "      <th>4</th>\n",
       "      <td>2017-01-02</td>\n",
       "      <td>389.75</td>\n",
       "      <td>390.00</td>\n",
       "      <td>389.55</td>\n",
       "      <td>389.80</td>\n",
       "      <td>13701.0</td>\n",
       "    </tr>\n",
       "  </tbody>\n",
       "</table>\n",
       "</div>"
      ],
      "text/plain": [
       "    timestamp    open    high     low   close   volume\n",
       "0  2017-01-02  392.05  392.15  390.90  390.90  39465.0\n",
       "1  2017-01-02  391.00  391.35  390.50  390.90  19199.0\n",
       "2  2017-01-02  390.65  390.90  390.10  390.10  19773.0\n",
       "3  2017-01-02  390.00  390.00  389.30  389.75  17499.0\n",
       "4  2017-01-02  389.75  390.00  389.55  389.80  13701.0"
      ]
     },
     "execution_count": 3,
     "metadata": {},
     "output_type": "execute_result"
    }
   ],
   "source": [
    "read_df[\"timestamp\"] = [value[:10] for value in read_df[\"timestamp\"]]\n",
    "read_df.head()"
   ]
  },
  {
   "cell_type": "code",
   "execution_count": 4,
   "metadata": {
    "colab": {
     "base_uri": "https://localhost:8080/",
     "height": 314
    },
    "executionInfo": {
     "elapsed": 583,
     "status": "ok",
     "timestamp": 1679230194411,
     "user": {
      "displayName": "Kathir Pandian",
      "userId": "11402945970793487358"
     },
     "user_tz": -330
    },
    "id": "ltY8kEmJ594S",
    "outputId": "9f7c353a-5a91-4ead-d44b-2d458329a581"
   },
   "outputs": [
    {
     "data": {
      "image/png": "[encoded data removed]",
      "text/plain": [
       "<Figure size 432x288 with 1 Axes>"
      ]
     },
     "metadata": {
      "needs_background": "light"
     },
     "output_type": "display_data"
    }
   ],
   "source": [
    "read_df.set_index(\"timestamp\", inplace=True)\n",
    "read_df['close'].plot()\n",
    "plt.xticks(rotation=40)\n",
    "plt.ylabel(\"Close Prices\")\n",
    "plt.show()"
   ]
  },
  {
   "cell_type": "code",
   "execution_count": 5,
   "metadata": {
    "colab": {
     "base_uri": "https://localhost:8080/"
    },
    "executionInfo": {
     "elapsed": 3,
     "status": "ok",
     "timestamp": 1679230216561,
     "user": {
      "displayName": "Kathir Pandian",
      "userId": "11402945970793487358"
     },
     "user_tz": -330
    },
    "id": "waVdi_53646B",
    "outputId": "5b8190a7-2054-42a5-90b5-e2ec6bc9398d"
   },
   "outputs": [
    {
     "data": {
      "text/plain": [
       "370546"
      ]
     },
     "execution_count": 5,
     "metadata": {},
     "output_type": "execute_result"
    }
   ],
   "source": [
    "len(read_df)"
   ]
  },
  {
   "cell_type": "code",
   "execution_count": 6,
   "metadata": {
    "executionInfo": {
     "elapsed": 521,
     "status": "ok",
     "timestamp": 1679230221742,
     "user": {
      "displayName": "Kathir Pandian",
      "userId": "11402945970793487358"
     },
     "user_tz": -330
    },
    "id": "m-_5dDTk4bPl"
   },
   "outputs": [],
   "source": [
    "read_df.dropna(inplace=True)"
   ]
  },
  {
   "cell_type": "code",
   "execution_count": 7,
   "metadata": {
    "colab": {
     "base_uri": "https://localhost:8080/"
    },
    "executionInfo": {
     "elapsed": 1,
     "status": "ok",
     "timestamp": 1679230222337,
     "user": {
      "displayName": "Kathir Pandian",
      "userId": "11402945970793487358"
     },
     "user_tz": -330
    },
    "id": "vipD16YC67C3",
    "outputId": "e92514ba-8382-4f78-860e-4c8880314e1a"
   },
   "outputs": [
    {
     "data": {
      "text/plain": [
       "370405"
      ]
     },
     "execution_count": 7,
     "metadata": {},
     "output_type": "execute_result"
    }
   ],
   "source": [
    "len(read_df)"
   ]
  },
  {
   "cell_type": "code",
   "execution_count": 8,
   "metadata": {
    "colab": {
     "base_uri": "https://localhost:8080/",
     "height": 237
    },
    "executionInfo": {
     "elapsed": 494,
     "status": "ok",
     "timestamp": 1679230249715,
     "user": {
      "displayName": "Kathir Pandian",
      "userId": "11402945970793487358"
     },
     "user_tz": -330
    },
    "id": "Toi4JeuF7A3y",
    "outputId": "157fb8ae-08ed-414b-8271-3d49912ed76b"
   },
   "outputs": [
    {
     "data": {
      "text/html": [
       "<div>\n",
       "<style scoped>\n",
       "    .dataframe tbody tr th:only-of-type {\n",
       "        vertical-align: middle;\n",
       "    }\n",
       "\n",
       "    .dataframe tbody tr th {\n",
       "        vertical-align: top;\n",
       "    }\n",
       "\n",
       "    .dataframe thead th {\n",
       "        text-align: right;\n",
       "    }\n",
       "</style>\n",
       "<table border=\"1\" class=\"dataframe\">\n",
       "  <thead>\n",
       "    <tr style=\"text-align: right;\">\n",
       "      <th></th>\n",
       "      <th>open</th>\n",
       "      <th>high</th>\n",
       "      <th>low</th>\n",
       "      <th>close</th>\n",
       "      <th>volume</th>\n",
       "    </tr>\n",
       "    <tr>\n",
       "      <th>timestamp</th>\n",
       "      <th></th>\n",
       "      <th></th>\n",
       "      <th></th>\n",
       "      <th></th>\n",
       "      <th></th>\n",
       "    </tr>\n",
       "  </thead>\n",
       "  <tbody>\n",
       "    <tr>\n",
       "      <th>2017-01-02</th>\n",
       "      <td>392.05</td>\n",
       "      <td>392.15</td>\n",
       "      <td>390.90</td>\n",
       "      <td>390.90</td>\n",
       "      <td>39465.0</td>\n",
       "    </tr>\n",
       "    <tr>\n",
       "      <th>2017-01-02</th>\n",
       "      <td>391.00</td>\n",
       "      <td>391.35</td>\n",
       "      <td>390.50</td>\n",
       "      <td>390.90</td>\n",
       "      <td>19199.0</td>\n",
       "    </tr>\n",
       "    <tr>\n",
       "      <th>2017-01-02</th>\n",
       "      <td>390.65</td>\n",
       "      <td>390.90</td>\n",
       "      <td>390.10</td>\n",
       "      <td>390.10</td>\n",
       "      <td>19773.0</td>\n",
       "    </tr>\n",
       "    <tr>\n",
       "      <th>2017-01-02</th>\n",
       "      <td>390.00</td>\n",
       "      <td>390.00</td>\n",
       "      <td>389.30</td>\n",
       "      <td>389.75</td>\n",
       "      <td>17499.0</td>\n",
       "    </tr>\n",
       "    <tr>\n",
       "      <th>2017-01-02</th>\n",
       "      <td>389.75</td>\n",
       "      <td>390.00</td>\n",
       "      <td>389.55</td>\n",
       "      <td>389.80</td>\n",
       "      <td>13701.0</td>\n",
       "    </tr>\n",
       "  </tbody>\n",
       "</table>\n",
       "</div>"
      ],
      "text/plain": [
       "              open    high     low   close   volume\n",
       "timestamp                                          \n",
       "2017-01-02  392.05  392.15  390.90  390.90  39465.0\n",
       "2017-01-02  391.00  391.35  390.50  390.90  19199.0\n",
       "2017-01-02  390.65  390.90  390.10  390.10  19773.0\n",
       "2017-01-02  390.00  390.00  389.30  389.75  17499.0\n",
       "2017-01-02  389.75  390.00  389.55  389.80  13701.0"
      ]
     },
     "execution_count": 8,
     "metadata": {},
     "output_type": "execute_result"
    }
   ],
   "source": [
    "read_df.head()"
   ]
  },
  {
   "cell_type": "code",
   "execution_count": 9,
   "metadata": {
    "colab": {
     "base_uri": "https://localhost:8080/",
     "height": 237
    },
    "executionInfo": {
     "elapsed": 757,
     "status": "ok",
     "timestamp": 1679233022310,
     "user": {
      "displayName": "Kathir Pandian",
      "userId": "11402945970793487358"
     },
     "user_tz": -330
    },
    "id": "w__5vo18-r5h",
    "outputId": "5a56f0d7-2a72-4773-95c8-30981bd49b53"
   },
   "outputs": [
    {
     "data": {
      "text/html": [
       "<div>\n",
       "<style scoped>\n",
       "    .dataframe tbody tr th:only-of-type {\n",
       "        vertical-align: middle;\n",
       "    }\n",
       "\n",
       "    .dataframe tbody tr th {\n",
       "        vertical-align: top;\n",
       "    }\n",
       "\n",
       "    .dataframe thead th {\n",
       "        text-align: right;\n",
       "    }\n",
       "</style>\n",
       "<table border=\"1\" class=\"dataframe\">\n",
       "  <thead>\n",
       "    <tr style=\"text-align: right;\">\n",
       "      <th></th>\n",
       "      <th>open</th>\n",
       "      <th>high</th>\n",
       "      <th>low</th>\n",
       "      <th>close</th>\n",
       "      <th>volume</th>\n",
       "    </tr>\n",
       "    <tr>\n",
       "      <th>timestamp</th>\n",
       "      <th></th>\n",
       "      <th></th>\n",
       "      <th></th>\n",
       "      <th></th>\n",
       "      <th></th>\n",
       "    </tr>\n",
       "  </thead>\n",
       "  <tbody>\n",
       "    <tr>\n",
       "      <th>2017-01-02</th>\n",
       "      <td>392.05</td>\n",
       "      <td>392.15</td>\n",
       "      <td>390.90</td>\n",
       "      <td>390.90</td>\n",
       "      <td>39465.0</td>\n",
       "    </tr>\n",
       "    <tr>\n",
       "      <th>2017-01-02</th>\n",
       "      <td>391.00</td>\n",
       "      <td>391.35</td>\n",
       "      <td>390.50</td>\n",
       "      <td>390.90</td>\n",
       "      <td>19199.0</td>\n",
       "    </tr>\n",
       "    <tr>\n",
       "      <th>2017-01-02</th>\n",
       "      <td>390.65</td>\n",
       "      <td>390.90</td>\n",
       "      <td>390.10</td>\n",
       "      <td>390.10</td>\n",
       "      <td>19773.0</td>\n",
       "    </tr>\n",
       "    <tr>\n",
       "      <th>2017-01-02</th>\n",
       "      <td>390.00</td>\n",
       "      <td>390.00</td>\n",
       "      <td>389.30</td>\n",
       "      <td>389.75</td>\n",
       "      <td>17499.0</td>\n",
       "    </tr>\n",
       "    <tr>\n",
       "      <th>2017-01-02</th>\n",
       "      <td>389.75</td>\n",
       "      <td>390.00</td>\n",
       "      <td>389.55</td>\n",
       "      <td>389.80</td>\n",
       "      <td>13701.0</td>\n",
       "    </tr>\n",
       "  </tbody>\n",
       "</table>\n",
       "</div>"
      ],
      "text/plain": [
       "              open    high     low   close   volume\n",
       "timestamp                                          \n",
       "2017-01-02  392.05  392.15  390.90  390.90  39465.0\n",
       "2017-01-02  391.00  391.35  390.50  390.90  19199.0\n",
       "2017-01-02  390.65  390.90  390.10  390.10  19773.0\n",
       "2017-01-02  390.00  390.00  389.30  389.75  17499.0\n",
       "2017-01-02  389.75  390.00  389.55  389.80  13701.0"
      ]
     },
     "execution_count": 9,
     "metadata": {},
     "output_type": "execute_result"
    }
   ],
   "source": [
    "# taking only the recent data\n",
    "modified_df = read_df.copy(deep=True)\n",
    "modified_df.head()"
   ]
  },
  {
   "cell_type": "code",
   "execution_count": 10,
   "metadata": {
    "colab": {
     "base_uri": "https://localhost:8080/",
     "height": 237
    },
    "executionInfo": {
     "elapsed": 5,
     "status": "ok",
     "timestamp": 1679233023445,
     "user": {
      "displayName": "Kathir Pandian",
      "userId": "11402945970793487358"
     },
     "user_tz": -330
    },
    "id": "J3VcebDOBln0",
    "outputId": "e2b4d736-bf74-4b44-a32b-c80c4626fc4f"
   },
   "outputs": [
    {
     "data": {
      "text/html": [
       "<div>\n",
       "<style scoped>\n",
       "    .dataframe tbody tr th:only-of-type {\n",
       "        vertical-align: middle;\n",
       "    }\n",
       "\n",
       "    .dataframe tbody tr th {\n",
       "        vertical-align: top;\n",
       "    }\n",
       "\n",
       "    .dataframe thead th {\n",
       "        text-align: right;\n",
       "    }\n",
       "</style>\n",
       "<table border=\"1\" class=\"dataframe\">\n",
       "  <thead>\n",
       "    <tr style=\"text-align: right;\">\n",
       "      <th></th>\n",
       "      <th>open</th>\n",
       "      <th>high</th>\n",
       "      <th>low</th>\n",
       "      <th>close</th>\n",
       "      <th>volume</th>\n",
       "    </tr>\n",
       "    <tr>\n",
       "      <th>timestamp</th>\n",
       "      <th></th>\n",
       "      <th></th>\n",
       "      <th></th>\n",
       "      <th></th>\n",
       "      <th></th>\n",
       "    </tr>\n",
       "  </thead>\n",
       "  <tbody>\n",
       "    <tr>\n",
       "      <th>2021-01-01</th>\n",
       "      <td>641.90</td>\n",
       "      <td>641.90</td>\n",
       "      <td>641.45</td>\n",
       "      <td>641.75</td>\n",
       "      <td>9670.0</td>\n",
       "    </tr>\n",
       "    <tr>\n",
       "      <th>2021-01-01</th>\n",
       "      <td>641.75</td>\n",
       "      <td>641.85</td>\n",
       "      <td>641.45</td>\n",
       "      <td>641.80</td>\n",
       "      <td>10684.0</td>\n",
       "    </tr>\n",
       "    <tr>\n",
       "      <th>2021-01-01</th>\n",
       "      <td>641.65</td>\n",
       "      <td>641.75</td>\n",
       "      <td>641.10</td>\n",
       "      <td>641.40</td>\n",
       "      <td>18094.0</td>\n",
       "    </tr>\n",
       "    <tr>\n",
       "      <th>2021-01-01</th>\n",
       "      <td>641.40</td>\n",
       "      <td>641.60</td>\n",
       "      <td>641.25</td>\n",
       "      <td>641.45</td>\n",
       "      <td>21185.0</td>\n",
       "    </tr>\n",
       "    <tr>\n",
       "      <th>2021-01-01</th>\n",
       "      <td>641.45</td>\n",
       "      <td>641.85</td>\n",
       "      <td>641.00</td>\n",
       "      <td>641.35</td>\n",
       "      <td>21238.0</td>\n",
       "    </tr>\n",
       "  </tbody>\n",
       "</table>\n",
       "</div>"
      ],
      "text/plain": [
       "              open    high     low   close   volume\n",
       "timestamp                                          \n",
       "2021-01-01  641.90  641.90  641.45  641.75   9670.0\n",
       "2021-01-01  641.75  641.85  641.45  641.80  10684.0\n",
       "2021-01-01  641.65  641.75  641.10  641.40  18094.0\n",
       "2021-01-01  641.40  641.60  641.25  641.45  21185.0\n",
       "2021-01-01  641.45  641.85  641.00  641.35  21238.0"
      ]
     },
     "execution_count": 10,
     "metadata": {},
     "output_type": "execute_result"
    }
   ],
   "source": [
    "modified_df.tail()"
   ]
  },
  {
   "cell_type": "code",
   "execution_count": 11,
   "metadata": {
    "colab": {
     "base_uri": "https://localhost:8080/"
    },
    "executionInfo": {
     "elapsed": 4,
     "status": "ok",
     "timestamp": 1679233023445,
     "user": {
      "displayName": "Kathir Pandian",
      "userId": "11402945970793487358"
     },
     "user_tz": -330
    },
    "id": "lGecyCHJ-729",
    "outputId": "75f4645f-f74a-4cf9-a767-214c4de022e9"
   },
   "outputs": [
    {
     "data": {
      "text/plain": [
       "8625"
      ]
     },
     "execution_count": 11,
     "metadata": {},
     "output_type": "execute_result"
    }
   ],
   "source": [
    "len(modified_df[modified_df.index>\"2020-11-30\"])"
   ]
  },
  {
   "cell_type": "code",
   "execution_count": 12,
   "metadata": {
    "colab": {
     "base_uri": "https://localhost:8080/",
     "height": 237
    },
    "executionInfo": {
     "elapsed": 962,
     "status": "ok",
     "timestamp": 1679233030166,
     "user": {
      "displayName": "Kathir Pandian",
      "userId": "11402945970793487358"
     },
     "user_tz": -330
    },
    "id": "p0Rraila_q_A",
    "outputId": "5740c332-9feb-4442-892c-36f0cf02f483"
   },
   "outputs": [
    {
     "data": {
      "text/html": [
       "<div>\n",
       "<style scoped>\n",
       "    .dataframe tbody tr th:only-of-type {\n",
       "        vertical-align: middle;\n",
       "    }\n",
       "\n",
       "    .dataframe tbody tr th {\n",
       "        vertical-align: top;\n",
       "    }\n",
       "\n",
       "    .dataframe thead th {\n",
       "        text-align: right;\n",
       "    }\n",
       "</style>\n",
       "<table border=\"1\" class=\"dataframe\">\n",
       "  <thead>\n",
       "    <tr style=\"text-align: right;\">\n",
       "      <th></th>\n",
       "      <th>open</th>\n",
       "      <th>high</th>\n",
       "      <th>low</th>\n",
       "      <th>close</th>\n",
       "      <th>volume</th>\n",
       "    </tr>\n",
       "    <tr>\n",
       "      <th>timestamp</th>\n",
       "      <th></th>\n",
       "      <th></th>\n",
       "      <th></th>\n",
       "      <th></th>\n",
       "      <th></th>\n",
       "    </tr>\n",
       "  </thead>\n",
       "  <tbody>\n",
       "    <tr>\n",
       "      <th>2020-12-01</th>\n",
       "      <td>592.00</td>\n",
       "      <td>592.00</td>\n",
       "      <td>581.55</td>\n",
       "      <td>584.70</td>\n",
       "      <td>726964.0</td>\n",
       "    </tr>\n",
       "    <tr>\n",
       "      <th>2020-12-01</th>\n",
       "      <td>585.05</td>\n",
       "      <td>587.20</td>\n",
       "      <td>584.00</td>\n",
       "      <td>586.75</td>\n",
       "      <td>406160.0</td>\n",
       "    </tr>\n",
       "    <tr>\n",
       "      <th>2020-12-01</th>\n",
       "      <td>586.75</td>\n",
       "      <td>588.45</td>\n",
       "      <td>585.45</td>\n",
       "      <td>588.45</td>\n",
       "      <td>348538.0</td>\n",
       "    </tr>\n",
       "    <tr>\n",
       "      <th>2020-12-01</th>\n",
       "      <td>588.75</td>\n",
       "      <td>588.90</td>\n",
       "      <td>585.50</td>\n",
       "      <td>585.55</td>\n",
       "      <td>169421.0</td>\n",
       "    </tr>\n",
       "    <tr>\n",
       "      <th>2020-12-01</th>\n",
       "      <td>585.55</td>\n",
       "      <td>587.15</td>\n",
       "      <td>584.95</td>\n",
       "      <td>585.00</td>\n",
       "      <td>149900.0</td>\n",
       "    </tr>\n",
       "  </tbody>\n",
       "</table>\n",
       "</div>"
      ],
      "text/plain": [
       "              open    high     low   close    volume\n",
       "timestamp                                           \n",
       "2020-12-01  592.00  592.00  581.55  584.70  726964.0\n",
       "2020-12-01  585.05  587.20  584.00  586.75  406160.0\n",
       "2020-12-01  586.75  588.45  585.45  588.45  348538.0\n",
       "2020-12-01  588.75  588.90  585.50  585.55  169421.0\n",
       "2020-12-01  585.55  587.15  584.95  585.00  149900.0"
      ]
     },
     "execution_count": 12,
     "metadata": {},
     "output_type": "execute_result"
    }
   ],
   "source": [
    "modified_df = modified_df[modified_df.index>\"2020-11-30\"]\n",
    "modified_df.head()"
   ]
  },
  {
   "cell_type": "code",
   "execution_count": 13,
   "metadata": {
    "colab": {
     "base_uri": "https://localhost:8080/"
    },
    "executionInfo": {
     "elapsed": 641,
     "status": "ok",
     "timestamp": 1679233039761,
     "user": {
      "displayName": "Kathir Pandian",
      "userId": "11402945970793487358"
     },
     "user_tz": -330
    },
    "id": "nCap0oRy4bPl",
    "outputId": "a5d149e7-bac9-4755-8a63-6be7b51ca20d"
   },
   "outputs": [
    {
     "data": {
      "text/plain": [
       "(              open    high     low\n",
       " timestamp                         \n",
       " 2020-12-01  592.00  592.00  581.55\n",
       " 2020-12-01  585.05  587.20  584.00\n",
       " 2020-12-01  586.75  588.45  585.45\n",
       " 2020-12-01  588.75  588.90  585.50\n",
       " 2020-12-01  585.55  587.15  584.95,\n",
       " timestamp\n",
       " 2020-12-01    584.70\n",
       " 2020-12-01    586.75\n",
       " 2020-12-01    588.45\n",
       " 2020-12-01    585.55\n",
       " 2020-12-01    585.00\n",
       " Name: close, dtype: float64)"
      ]
     },
     "execution_count": 13,
     "metadata": {},
     "output_type": "execute_result"
    }
   ],
   "source": [
    "x = modified_df.drop([\"close\", \"volume\"], axis=1)\n",
    "y = modified_df[\"close\"]\n",
    "x.head(), y.head()"
   ]
  },
  {
   "cell_type": "code",
   "execution_count": 14,
   "metadata": {
    "executionInfo": {
     "elapsed": 708,
     "status": "ok",
     "timestamp": 1679233044488,
     "user": {
      "displayName": "Kathir Pandian",
      "userId": "11402945970793487358"
     },
     "user_tz": -330
    },
    "id": "q2iwFKz04bPl"
   },
   "outputs": [],
   "source": [
    "x_train, x_test, y_train, y_test = train_test_split(x, y, test_size=0.26,  random_state=0, shuffle=False)"
   ]
  },
  {
   "cell_type": "code",
   "execution_count": 15,
   "metadata": {
    "colab": {
     "base_uri": "https://localhost:8080/"
    },
    "executionInfo": {
     "elapsed": 758,
     "status": "ok",
     "timestamp": 1679233399959,
     "user": {
      "displayName": "Kathir Pandian",
      "userId": "11402945970793487358"
     },
     "user_tz": -330
    },
    "id": "VyB8nAvqHCJD",
    "outputId": "46ff98f3-21fa-4164-e984-b270efa5db4f"
   },
   "outputs": [
    {
     "data": {
      "text/html": [
       "<div>\n",
       "<style scoped>\n",
       "    .dataframe tbody tr th:only-of-type {\n",
       "        vertical-align: middle;\n",
       "    }\n",
       "\n",
       "    .dataframe tbody tr th {\n",
       "        vertical-align: top;\n",
       "    }\n",
       "\n",
       "    .dataframe thead th {\n",
       "        text-align: right;\n",
       "    }\n",
       "</style>\n",
       "<table border=\"1\" class=\"dataframe\">\n",
       "  <thead>\n",
       "    <tr style=\"text-align: right;\">\n",
       "      <th></th>\n",
       "      <th>open</th>\n",
       "      <th>high</th>\n",
       "      <th>low</th>\n",
       "    </tr>\n",
       "    <tr>\n",
       "      <th>timestamp</th>\n",
       "      <th></th>\n",
       "      <th></th>\n",
       "      <th></th>\n",
       "    </tr>\n",
       "  </thead>\n",
       "  <tbody>\n",
       "    <tr>\n",
       "      <th>2020-12-01</th>\n",
       "      <td>592.00</td>\n",
       "      <td>592.00</td>\n",
       "      <td>581.55</td>\n",
       "    </tr>\n",
       "    <tr>\n",
       "      <th>2020-12-01</th>\n",
       "      <td>585.05</td>\n",
       "      <td>587.20</td>\n",
       "      <td>584.00</td>\n",
       "    </tr>\n",
       "    <tr>\n",
       "      <th>2020-12-01</th>\n",
       "      <td>586.75</td>\n",
       "      <td>588.45</td>\n",
       "      <td>585.45</td>\n",
       "    </tr>\n",
       "    <tr>\n",
       "      <th>2020-12-01</th>\n",
       "      <td>588.75</td>\n",
       "      <td>588.90</td>\n",
       "      <td>585.50</td>\n",
       "    </tr>\n",
       "    <tr>\n",
       "      <th>2020-12-01</th>\n",
       "      <td>585.55</td>\n",
       "      <td>587.15</td>\n",
       "      <td>584.95</td>\n",
       "    </tr>\n",
       "    <tr>\n",
       "      <th>2020-12-01</th>\n",
       "      <td>584.45</td>\n",
       "      <td>585.85</td>\n",
       "      <td>584.05</td>\n",
       "    </tr>\n",
       "    <tr>\n",
       "      <th>2020-12-01</th>\n",
       "      <td>584.25</td>\n",
       "      <td>584.45</td>\n",
       "      <td>577.00</td>\n",
       "    </tr>\n",
       "    <tr>\n",
       "      <th>2020-12-01</th>\n",
       "      <td>577.95</td>\n",
       "      <td>581.10</td>\n",
       "      <td>577.55</td>\n",
       "    </tr>\n",
       "    <tr>\n",
       "      <th>2020-12-01</th>\n",
       "      <td>580.85</td>\n",
       "      <td>583.30</td>\n",
       "      <td>580.70</td>\n",
       "    </tr>\n",
       "    <tr>\n",
       "      <th>2020-12-01</th>\n",
       "      <td>583.35</td>\n",
       "      <td>583.55</td>\n",
       "      <td>582.35</td>\n",
       "    </tr>\n",
       "  </tbody>\n",
       "</table>\n",
       "</div>"
      ],
      "text/plain": [
       "              open    high     low\n",
       "timestamp                         \n",
       "2020-12-01  592.00  592.00  581.55\n",
       "2020-12-01  585.05  587.20  584.00\n",
       "2020-12-01  586.75  588.45  585.45\n",
       "2020-12-01  588.75  588.90  585.50\n",
       "2020-12-01  585.55  587.15  584.95\n",
       "2020-12-01  584.45  585.85  584.05\n",
       "2020-12-01  584.25  584.45  577.00\n",
       "2020-12-01  577.95  581.10  577.55\n",
       "2020-12-01  580.85  583.30  580.70\n",
       "2020-12-01  583.35  583.55  582.35"
      ]
     },
     "execution_count": 15,
     "metadata": {},
     "output_type": "execute_result"
    }
   ],
   "source": [
    "x_train[:10]"
   ]
  },
  {
   "cell_type": "code",
   "execution_count": 16,
   "metadata": {
    "executionInfo": {
     "elapsed": 1,
     "status": "ok",
     "timestamp": 1679233045010,
     "user": {
      "displayName": "Kathir Pandian",
      "userId": "11402945970793487358"
     },
     "user_tz": -330
    },
    "id": "QP-qtRbm4bPm"
   },
   "outputs": [],
   "source": [
    "scale = StandardScaler()\n",
    "x_train = scale.fit_transform(x_train)\n",
    "x_test = scale.transform(x_test)"
   ]
  },
  {
   "cell_type": "code",
   "execution_count": 17,
   "metadata": {
    "colab": {
     "base_uri": "https://localhost:8080/"
    },
    "executionInfo": {
     "elapsed": 44203,
     "status": "ok",
     "timestamp": 1679233097703,
     "user": {
      "displayName": "Kathir Pandian",
      "userId": "11402945970793487358"
     },
     "user_tz": -330
    },
    "id": "jOvHzkQ04bPm",
    "outputId": "78a100e8-514c-42dd-dbec-9a73a3a49a80"
   },
   "outputs": [
    {
     "name": "stdout",
     "output_type": "stream",
     "text": [
      "Fitting 3 folds for each of 5 candidates, totalling 15 fits\n",
      "{'n_estimators': 50, 'max_depth': 5, 'criterion': 'squared_error'}\n"
     ]
    }
   ],
   "source": [
    "grid_rf = {\n",
    "'n_estimators': [ 50, 100, 200],  \n",
    "'max_depth': [5, 10],  \n",
    "\"criterion\": [\"squared_error\", \"absolute_error\"]\n",
    "}\n",
    "model=RandomForestRegressor(random_state=42)\n",
    "rscv = RandomizedSearchCV(estimator=model, param_distributions=grid_rf, cv=3, n_jobs=-1, verbose=2, n_iter=5)\n",
    "rscv_fit = rscv.fit(x_train, y_train)\n",
    "best_parameters = rscv_fit.best_params_\n",
    "print(best_parameters)"
   ]
  },
  {
   "cell_type": "code",
   "execution_count": 18,
   "metadata": {
    "colab": {
     "base_uri": "https://localhost:8080/"
    },
    "executionInfo": {
     "elapsed": 737,
     "status": "ok",
     "timestamp": 1679233107413,
     "user": {
      "displayName": "Kathir Pandian",
      "userId": "11402945970793487358"
     },
     "user_tz": -330
    },
    "id": "iTXWh37WFTtP",
    "outputId": "b5fc50c4-dd78-45cb-9a94-be4d64f0bcd9"
   },
   "outputs": [
    {
     "data": {
      "text/plain": [
       "0.9900467781520096"
      ]
     },
     "execution_count": 18,
     "metadata": {},
     "output_type": "execute_result"
    }
   ],
   "source": [
    "rscv.best_score_"
   ]
  },
  {
   "cell_type": "code",
   "execution_count": 19,
   "metadata": {
    "colab": {
     "base_uri": "https://localhost:8080/"
    },
    "executionInfo": {
     "elapsed": 3961,
     "status": "ok",
     "timestamp": 1679233144271,
     "user": {
      "displayName": "Kathir Pandian",
      "userId": "11402945970793487358"
     },
     "user_tz": -330
    },
    "id": "vZs8NgKi4bPm",
    "outputId": "503746a4-47d9-4f5a-f850-a1ee2e9ecfbe"
   },
   "outputs": [
    {
     "name": "stdout",
     "output_type": "stream",
     "text": [
      "(2243,)\n"
     ]
    }
   ],
   "source": [
    "model = RandomForestRegressor(n_estimators=200, random_state=42, max_depth=10, criterion=\"squared_error\")\n",
    "model.fit(x_train, y_train)\n",
    "predict = model.predict(x_test)\n",
    "print(predict.shape)"
   ]
  },
  {
   "cell_type": "code",
   "execution_count": 20,
   "metadata": {
    "colab": {
     "base_uri": "https://localhost:8080/"
    },
    "executionInfo": {
     "elapsed": 642,
     "status": "ok",
     "timestamp": 1679233152723,
     "user": {
      "displayName": "Kathir Pandian",
      "userId": "11402945970793487358"
     },
     "user_tz": -330
    },
    "id": "ICQvZ0IT4bPn",
    "outputId": "7d5244c3-19ea-4ad6-b7c5-8e19164928fc"
   },
   "outputs": [
    {
     "name": "stdout",
     "output_type": "stream",
     "text": [
      "Mean Absolute Error: 0.2454\n",
      "Mean Squared Error: 0.2235\n",
      "Root Mean Squared Error: 0.4728\n",
      "(R^2) Score: 0.9964\n",
      "Train Score : 99.99% and Test Score : 99.64% using Random Tree Regressor.\n",
      "Accuracy: 99.96 %.\n"
     ]
    }
   ],
   "source": [
    "print(\"Mean Absolute Error:\", round(metrics.mean_absolute_error(y_test, predict), 4))\n",
    "print(\"Mean Squared Error:\", round(metrics.mean_squared_error(y_test, predict), 4))\n",
    "print(\"Root Mean Squared Error:\", round(np.sqrt(metrics.mean_squared_error(y_test, predict)), 4))\n",
    "print(\"(R^2) Score:\", round(metrics.r2_score(y_test, predict), 4))\n",
    "print(f'Train Score : {model.score(x_train, y_train) * 100:.2f}% and Test Score : {model.score(x_test, y_test) * 100:.2f}% using Random Tree Regressor.')\n",
    "errors = abs(predict - y_test)\n",
    "mape = 100 * (errors / y_test)\n",
    "accuracy = 100 - np.mean(mape)\n",
    "print('Accuracy:', round(accuracy, 2), '%.') "
   ]
  },
  {
   "cell_type": "code",
   "execution_count": 21,
   "metadata": {
    "colab": {
     "base_uri": "https://localhost:8080/"
    },
    "executionInfo": {
     "elapsed": 475,
     "status": "ok",
     "timestamp": 1679233359826,
     "user": {
      "displayName": "Kathir Pandian",
      "userId": "11402945970793487358"
     },
     "user_tz": -330
    },
    "id": "pibWTNsfG2R7",
    "outputId": "4b240b75-af81-40f9-c055-00a4f0f43fcb"
   },
   "outputs": [
    {
     "data": {
      "text/plain": [
       "(2243, 2243)"
      ]
     },
     "execution_count": 21,
     "metadata": {},
     "output_type": "execute_result"
    }
   ],
   "source": [
    "len(x_test), len(y_test)"
   ]
  },
  {
   "cell_type": "code",
   "execution_count": 22,
   "metadata": {
    "colab": {
     "base_uri": "https://localhost:8080/"
    },
    "executionInfo": {
     "elapsed": 917,
     "status": "ok",
     "timestamp": 1679233527257,
     "user": {
      "displayName": "Kathir Pandian",
      "userId": "11402945970793487358"
     },
     "user_tz": -330
    },
    "id": "Kb3NYT8AHh9v",
    "outputId": "eb3e79d5-6bdf-40e6-a5d3-d032ef1296fb"
   },
   "outputs": [
    {
     "data": {
      "text/plain": [
       "2242"
      ]
     },
     "execution_count": 22,
     "metadata": {},
     "output_type": "execute_result"
    }
   ],
   "source": [
    "int(0.26 * len(x))"
   ]
  },
  {
   "cell_type": "code",
   "execution_count": 23,
   "metadata": {
    "colab": {
     "base_uri": "https://localhost:8080/"
    },
    "executionInfo": {
     "elapsed": 871,
     "status": "ok",
     "timestamp": 1679233550638,
     "user": {
      "displayName": "Kathir Pandian",
      "userId": "11402945970793487358"
     },
     "user_tz": -330
    },
    "id": "XfK6GG8kHZII",
    "outputId": "04d88775-771c-406e-f276-13baca63d0d2"
   },
   "outputs": [
    {
     "data": {
      "text/plain": [
       "2242"
      ]
     },
     "execution_count": 23,
     "metadata": {},
     "output_type": "execute_result"
    }
   ],
   "source": [
    "x_axis = modified_df.index[-2242:]\n",
    "len(x_axis)"
   ]
  },
  {
   "cell_type": "code",
   "execution_count": 24,
   "metadata": {
    "colab": {
     "base_uri": "https://localhost:8080/"
    },
    "executionInfo": {
     "elapsed": 824,
     "status": "ok",
     "timestamp": 1679233577061,
     "user": {
      "displayName": "Kathir Pandian",
      "userId": "11402945970793487358"
     },
     "user_tz": -330
    },
    "id": "1kdjzj6FHtCG",
    "outputId": "867347e2-1706-421d-9d34-5b19736dbdec"
   },
   "outputs": [
    {
     "data": {
      "text/plain": [
       "Index(['2020-12-24', '2020-12-24', '2020-12-24', '2020-12-24', '2020-12-24',\n",
       "       '2020-12-24', '2020-12-24', '2020-12-24', '2020-12-24', '2020-12-24'],\n",
       "      dtype='object', name='timestamp')"
      ]
     },
     "execution_count": 24,
     "metadata": {},
     "output_type": "execute_result"
    }
   ],
   "source": [
    "x_axis[:10]"
   ]
  },
  {
   "cell_type": "code",
   "execution_count": 25,
   "metadata": {
    "colab": {
     "base_uri": "https://localhost:8080/",
     "height": 237
    },
    "executionInfo": {
     "elapsed": 1023,
     "status": "ok",
     "timestamp": 1679234115716,
     "user": {
      "displayName": "Kathir Pandian",
      "userId": "11402945970793487358"
     },
     "user_tz": -330
    },
    "id": "tFI4-idQIhm6",
    "outputId": "b6040a21-36b8-4b13-ab2f-274ad8937572"
   },
   "outputs": [
    {
     "data": {
      "text/html": [
       "<div>\n",
       "<style scoped>\n",
       "    .dataframe tbody tr th:only-of-type {\n",
       "        vertical-align: middle;\n",
       "    }\n",
       "\n",
       "    .dataframe tbody tr th {\n",
       "        vertical-align: top;\n",
       "    }\n",
       "\n",
       "    .dataframe thead th {\n",
       "        text-align: right;\n",
       "    }\n",
       "</style>\n",
       "<table border=\"1\" class=\"dataframe\">\n",
       "  <thead>\n",
       "    <tr style=\"text-align: right;\">\n",
       "      <th></th>\n",
       "      <th>actual</th>\n",
       "      <th>prediction</th>\n",
       "    </tr>\n",
       "    <tr>\n",
       "      <th>timestamp</th>\n",
       "      <th></th>\n",
       "      <th></th>\n",
       "    </tr>\n",
       "  </thead>\n",
       "  <tbody>\n",
       "    <tr>\n",
       "      <th>2020-12-24</th>\n",
       "      <td>626.9</td>\n",
       "      <td>626.421392</td>\n",
       "    </tr>\n",
       "    <tr>\n",
       "      <th>2020-12-24</th>\n",
       "      <td>627.0</td>\n",
       "      <td>627.101029</td>\n",
       "    </tr>\n",
       "    <tr>\n",
       "      <th>2020-12-24</th>\n",
       "      <td>628.1</td>\n",
       "      <td>627.962777</td>\n",
       "    </tr>\n",
       "    <tr>\n",
       "      <th>2020-12-24</th>\n",
       "      <td>628.8</td>\n",
       "      <td>627.769072</td>\n",
       "    </tr>\n",
       "    <tr>\n",
       "      <th>2020-12-24</th>\n",
       "      <td>630.6</td>\n",
       "      <td>630.049193</td>\n",
       "    </tr>\n",
       "  </tbody>\n",
       "</table>\n",
       "</div>"
      ],
      "text/plain": [
       "           actual  prediction\n",
       "timestamp                    \n",
       "2020-12-24  626.9  626.421392\n",
       "2020-12-24  627.0  627.101029\n",
       "2020-12-24  628.1  627.962777\n",
       "2020-12-24  628.8  627.769072\n",
       "2020-12-24  630.6  630.049193"
      ]
     },
     "execution_count": 25,
     "metadata": {},
     "output_type": "execute_result"
    }
   ],
   "source": [
    "pred = pd.DataFrame(data=[x_axis, y_test, predict]).T\n",
    "pred.columns = [\"timestamp\", \"actual\", \"prediction\"]\n",
    "pred.set_index(\"timestamp\", inplace=True)\n",
    "pred.head()"
   ]
  },
  {
   "cell_type": "code",
   "execution_count": 26,
   "metadata": {
    "colab": {
     "base_uri": "https://localhost:8080/",
     "height": 477
    },
    "executionInfo": {
     "elapsed": 1637,
     "status": "ok",
     "timestamp": 1679234375730,
     "user": {
      "displayName": "Kathir Pandian",
      "userId": "11402945970793487358"
     },
     "user_tz": -330
    },
    "id": "nOGkF2x9GpQY",
    "outputId": "02e5b5d1-57ce-48b6-dc19-8f42c3bd61b6"
   },
   "outputs": [
    {
     "data": {
      "image/png": "[encoded data removed]",
      "text/plain": [
       "<Figure size 720x504 with 1 Axes>"
      ]
     },
     "metadata": {
      "needs_background": "light"
     },
     "output_type": "display_data"
    }
   ],
   "source": [
    "pred.plot(figsize=(10,7))\n",
    "plt.xticks(rotation=40);"
   ]
  },
  {
   "cell_type": "code",
   "execution_count": 27,
   "metadata": {
    "colab": {
     "base_uri": "https://localhost:8080/",
     "height": 477
    },
    "executionInfo": {
     "elapsed": 5,
     "status": "ok",
     "timestamp": 1679234406145,
     "user": {
      "displayName": "Kathir Pandian",
      "userId": "11402945970793487358"
     },
     "user_tz": -330
    },
    "id": "g0D8NgJVK0Hg",
    "outputId": "0eab7475-ffa2-43e3-de7b-5764671a5112"
   },
   "outputs": [
    {
     "data": {
      "image/png": "[encoded data removed]",
      "text/plain": [
       "<Figure size 720x504 with 1 Axes>"
      ]
     },
     "metadata": {
      "needs_background": "light"
     },
     "output_type": "display_data"
    }
   ],
   "source": [
    "# to get a closer look\n",
    "pred[:200].plot(figsize=(10,7))\n",
    "plt.xticks(rotation=40);"
   ]
  },
  {
   "cell_type": "code",
   "execution_count": 28,
   "metadata": {
    "id": "Bh2mZCQj4bPo"
   },
   "outputs": [],
   "source": [
    "pred.to_csv(\"Prediction\")"
   ]
  }
 ],
 "metadata": {
  "colab": {
   "provenance": []
  },
  "kernelspec": {
   "display_name": "Python 3 (ipykernel)",
   "language": "python",
   "name": "python3"
  },
  "language_info": {
   "codemirror_mode": {
    "name": "ipython",
    "version": 3
   },
   "file_extension": ".py",
   "mimetype": "text/x-python",
   "name": "python",
   "nbconvert_exporter": "python",
   "pygments_lexer": "ipython3",
   "version": "3.9.12"
  }
 },
 "nbformat": 4,
 "nbformat_minor": 1
}
